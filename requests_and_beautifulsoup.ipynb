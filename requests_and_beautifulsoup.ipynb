{
 "cells": [
  {
   "cell_type": "markdown",
   "metadata": {},
   "source": [
    "# Using BeautifulSoup\n",
    "\n",
    "## Let's get the data about Kings XI Punjab's performance in the IPL"
   ]
  },
  {
   "cell_type": "markdown",
   "metadata": {},
   "source": [
    "We need to import the following libraries."
   ]
  },
  {
   "cell_type": "code",
   "execution_count": 1,
   "metadata": {},
   "outputs": [],
   "source": [
    "import requests\n",
    "import pandas as pd\n",
    "import numpy as np\n",
    "import matplotlib.pyplot as plt\n",
    "from bs4 import BeautifulSoup\n",
    "\n",
    "%matplotlib inline"
   ]
  },
  {
   "cell_type": "markdown",
   "metadata": {},
   "source": [
    "Define some placeholder variables."
   ]
  },
  {
   "cell_type": "code",
   "execution_count": 2,
   "metadata": {},
   "outputs": [],
   "source": [
    "URL = 'https://en.wikipedia.org/wiki/20{:02d}_Indian_Premier_League'\n",
    "SEASON = 'IPL-{:02d}'"
   ]
  },
  {
   "cell_type": "markdown",
   "metadata": {},
   "source": [
    "### Generating urls\n",
    "This is where we will get our data from.\n",
    "\n",
    "IPL-01 https://en.wikipedia.org/wiki/2008_Indian_Premier_League\n",
    "\n",
    "IPL-02 https://en.wikipedia.org/wiki/2009_Indian_Premier_League\n",
    "\n",
    "IPL-03 https://en.wikipedia.org/wiki/2010_Indian_Premier_League\n",
    "\n",
    "... \n",
    "\n",
    "IPL-11 https://en.wikipedia.org/wiki/2018_Indian_Premier_League\n",
    "\n",
    "IPL-12 https://en.wikipedia.org/wiki/2019_Indian_Premier_League\n",
    "\n",
    "**How will you generate these URLs?**"
   ]
  },
  {
   "cell_type": "code",
   "execution_count": null,
   "metadata": {},
   "outputs": [],
   "source": [
    "# WRITE A CODE TO GENERATE ABOVE URLS AND STORE THEM IN A LIST\n",
    "urls = []\n",
    "for i in range(8,20):\n",
    "    urls.append(URL.format(i))"
   ]
  },
  {
   "cell_type": "code",
   "execution_count": 4,
   "metadata": {},
   "outputs": [
    {
     "data": {
      "text/plain": [
       "['https://en.wikipedia.org/wiki/2008_Indian_Premier_League',\n",
       " 'https://en.wikipedia.org/wiki/2009_Indian_Premier_League',\n",
       " 'https://en.wikipedia.org/wiki/2010_Indian_Premier_League',\n",
       " 'https://en.wikipedia.org/wiki/2011_Indian_Premier_League',\n",
       " 'https://en.wikipedia.org/wiki/2012_Indian_Premier_League',\n",
       " 'https://en.wikipedia.org/wiki/2013_Indian_Premier_League',\n",
       " 'https://en.wikipedia.org/wiki/2014_Indian_Premier_League',\n",
       " 'https://en.wikipedia.org/wiki/2015_Indian_Premier_League',\n",
       " 'https://en.wikipedia.org/wiki/2016_Indian_Premier_League',\n",
       " 'https://en.wikipedia.org/wiki/2017_Indian_Premier_League',\n",
       " 'https://en.wikipedia.org/wiki/2018_Indian_Premier_League',\n",
       " 'https://en.wikipedia.org/wiki/2019_Indian_Premier_League']"
      ]
     },
     "execution_count": 4,
     "metadata": {},
     "output_type": "execute_result"
    }
   ],
   "source": [
    "urls"
   ]
  },
  {
   "cell_type": "markdown",
   "metadata": {
    "scrolled": false
   },
   "source": [
    "Since we now have the urls, we can create a dataframe.\n",
    "\n",
    "Use the code template below to create our output dataframe.\n",
    "\n",
    "Our dataframe will look like this:\n",
    "\n",
    "![](ipl.png)"
   ]
  },
  {
   "cell_type": "code",
   "execution_count": 12,
   "metadata": {
    "scrolled": false
   },
   "outputs": [
    {
     "name": "stdout",
     "output_type": "stream",
     "text": [
      "['Rajasthan Royals', 'IPL-01', 14, 11]\n",
      "['Kings XI Punjab', 'IPL-01', 14, 10]\n",
      "['Chennai Super Kings', 'IPL-01', 14, 8]\n",
      "['Delhi Daredevils', 'IPL-01', 14, 7]\n",
      "['Mumbai Indians', 'IPL-01', 14, 7]\n",
      "['Kolkata Knight Riders', 'IPL-01', 14, 6]\n",
      "['Royal Challengers Bangalore', 'IPL-01', 14, 4]\n",
      "['Deccan Chargers', 'IPL-01', 14, 2]\n",
      "['Delhi Daredevils', 'IPL-02', 14, 10]\n",
      "['Chennai Super Kings', 'IPL-02', 14, 8]\n",
      "['Royal Challengers Bangalore', 'IPL-02', 14, 8]\n",
      "['Deccan Chargers', 'IPL-02', 14, 7]\n",
      "['Kings XI Punjab', 'IPL-02', 14, 7]\n",
      "['Rajasthan Royals', 'IPL-02', 14, 6]\n",
      "['Mumbai Indians', 'IPL-02', 14, 5]\n",
      "['Kolkata Knight Riders', 'IPL-02', 14, 3]\n",
      "['Mumbai Indians', 'IPL-03', 14, 10]\n",
      "['Deccan Chargers', 'IPL-03', 14, 8]\n",
      "['Chennai Super Kings', 'IPL-03', 14, 7]\n",
      "['Royal Challengers Bangalore', 'IPL-03', 14, 7]\n",
      "['Delhi Daredevils', 'IPL-03', 14, 7]\n",
      "['Kolkata Knight Riders', 'IPL-03', 14, 7]\n",
      "['Rajasthan Royals', 'IPL-03', 14, 6]\n",
      "['Kings XI Punjab', 'IPL-03', 14, 4]\n",
      "['Delhi Daredevils', 'IPL-05', 16, 11]\n",
      "['Kolkata Knight Riders', 'IPL-05', 16, 10]\n",
      "['Mumbai Indians', 'IPL-05', 16, 10]\n",
      "['Chennai Super Kings', 'IPL-05', 16, 8]\n",
      "['Royal Challengers Bangalore', 'IPL-05', 16, 8]\n",
      "['Kings XI Punjab', 'IPL-05', 16, 8]\n",
      "['Rajasthan Royals', 'IPL-05', 16, 7]\n",
      "['Deccan Chargers', 'IPL-05', 16, 4]\n",
      "['Pune Warriors India', 'IPL-05', 16, 4]\n",
      "['Chennai Super Kings', 'IPL-06', 16, 11]\n",
      "['Mumbai Indians', 'IPL-06', 16, 11]\n",
      "['Rajasthan Royals', 'IPL-06', 16, 10]\n",
      "['Sunrisers Hyderabad', 'IPL-06', 16, 10]\n",
      "['Royal Challengers Bangalore', 'IPL-06', 16, 9]\n",
      "['Kings XI Punjab', 'IPL-06', 16, 8]\n",
      "['Kolkata Knight Riders', 'IPL-06', 16, 6]\n",
      "['Pune Warriors India', 'IPL-06', 16, 4]\n",
      "['Delhi Daredevils', 'IPL-06', 16, 3]\n",
      "['Kings XI Punjab', 'IPL-07', 14, 11]\n",
      "['Kolkata Knight Riders', 'IPL-07', 14, 9]\n",
      "['Chennai Super Kings', 'IPL-07', 14, 9]\n",
      "['Mumbai Indians', 'IPL-07', 14, 7]\n",
      "['Rajasthan Royals', 'IPL-07', 14, 7]\n",
      "['Sunrisers Hyderabad', 'IPL-07', 14, 6]\n",
      "['Royal Challengers Bangalore', 'IPL-07', 14, 5]\n",
      "['Delhi Daredevils', 'IPL-07', 14, 2]\n",
      "['Chennai Super Kings', 'IPL-08', 14, 9]\n",
      "['Mumbai Indians', 'IPL-08', 14, 8]\n",
      "['Royal Challengers Bangalore', 'IPL-08', 14, 7]\n",
      "['Rajasthan Royals', 'IPL-08', 14, 7]\n",
      "['Kolkata Knight Riders', 'IPL-08', 14, 7]\n",
      "['Sunrisers Hyderabad', 'IPL-08', 14, 7]\n",
      "['Delhi Daredevils', 'IPL-08', 14, 5]\n",
      "['Kings XI Punjab', 'IPL-08', 14, 3]\n",
      "['Gujarat Lions', 'IPL-09', 14, 9]\n",
      "['Royal Challengers Bangalore', 'IPL-09', 14, 8]\n",
      "['Sunrisers Hyderabad', 'IPL-09', 14, 8]\n",
      "['Kolkata Knight Riders', 'IPL-09', 14, 8]\n",
      "['Mumbai Indians', 'IPL-09', 14, 7]\n",
      "['Delhi Daredevils', 'IPL-09', 14, 7]\n",
      "['Rising Pune Supergiants', 'IPL-09', 14, 5]\n",
      "['Kings XI Punjab', 'IPL-09', 14, 4]\n",
      "['Sunrisers Hyderabad', 'IPL-11', 14, 9]\n",
      "['Chennai Super Kings', 'IPL-11', 14, 9]\n",
      "['Kolkata Knight Riders', 'IPL-11', 14, 8]\n",
      "['Rajasthan Royals', 'IPL-11', 14, 7]\n",
      "['Mumbai Indians', 'IPL-11', 14, 6]\n",
      "['Royal Challengers Bangalore', 'IPL-11', 14, 6]\n",
      "['Kings XI Punjab', 'IPL-11', 14, 6]\n",
      "['Delhi Daredevils', 'IPL-11', 14, 5]\n",
      "['Mumbai Indians', 'IPL-12', 14, 9]\n",
      "['Chennai Super Kings', 'IPL-12', 14, 9]\n",
      "['Delhi Capitals', 'IPL-12', 14, 9]\n",
      "['Sunrisers Hyderabad', 'IPL-12', 14, 6]\n",
      "['Kolkata Knight Riders', 'IPL-12', 14, 6]\n",
      "['Kings XI Punjab', 'IPL-12', 14, 6]\n",
      "['Rajasthan Royals', 'IPL-12', 14, 5]\n",
      "['Royal Challengers Bangalore', 'IPL-12', 14, 5]\n"
     ]
    }
   ],
   "source": [
    "df = pd.DataFrame()\n",
    "\n",
    "for i in range(8,20):\n",
    "    url = URL.format(i)\n",
    "    season = SEASON.format(i - 7)\n",
    "    \n",
    "    response = requests.get(url)\n",
    "    soup = BeautifulSoup(response.content,'html.parser')\n",
    "    \n",
    "    trs = soup.find_all('tr')\n",
    "    for tr in trs:    \n",
    "        tags = tr.find_all('a')\n",
    "        if len(tags) > 0:\n",
    "            tds = tr.find_all('td')\n",
    "            try:\n",
    "                name = tds[0].text.strip()\n",
    "                played = int(tds[1].text)\n",
    "                wins = int(tds[2].text)\n",
    "                \n",
    "                if len(name) < 10:\n",
    "                    continue\n",
    "                name = name.split('(')[0]\n",
    "                name = name.strip()\n",
    "                \n",
    "                row = [name, season, played, wins]\n",
    "                df = df.append([row])\n",
    "                print(row)\n",
    "            except:\n",
    "                continue\n",
    "            \n",
    "            row = [team, season, played, wins]\n",
    "            df = df.append([row])"
   ]
  },
  {
   "cell_type": "code",
   "execution_count": 13,
   "metadata": {},
   "outputs": [
    {
     "data": {
      "text/html": [
       "<div>\n",
       "<style scoped>\n",
       "    .dataframe tbody tr th:only-of-type {\n",
       "        vertical-align: middle;\n",
       "    }\n",
       "\n",
       "    .dataframe tbody tr th {\n",
       "        vertical-align: top;\n",
       "    }\n",
       "\n",
       "    .dataframe thead th {\n",
       "        text-align: right;\n",
       "    }\n",
       "</style>\n",
       "<table border=\"1\" class=\"dataframe\">\n",
       "  <thead>\n",
       "    <tr style=\"text-align: right;\">\n",
       "      <th></th>\n",
       "      <th>0</th>\n",
       "      <th>1</th>\n",
       "      <th>2</th>\n",
       "      <th>3</th>\n",
       "    </tr>\n",
       "  </thead>\n",
       "  <tbody>\n",
       "    <tr>\n",
       "      <th>0</th>\n",
       "      <td>Rajasthan Royals</td>\n",
       "      <td>IPL-01</td>\n",
       "      <td>14</td>\n",
       "      <td>11</td>\n",
       "    </tr>\n",
       "    <tr>\n",
       "      <th>0</th>\n",
       "      <td>None</td>\n",
       "      <td>IPL-01</td>\n",
       "      <td>14</td>\n",
       "      <td>11</td>\n",
       "    </tr>\n",
       "    <tr>\n",
       "      <th>0</th>\n",
       "      <td>Kings XI Punjab</td>\n",
       "      <td>IPL-01</td>\n",
       "      <td>14</td>\n",
       "      <td>10</td>\n",
       "    </tr>\n",
       "    <tr>\n",
       "      <th>0</th>\n",
       "      <td>None</td>\n",
       "      <td>IPL-01</td>\n",
       "      <td>14</td>\n",
       "      <td>10</td>\n",
       "    </tr>\n",
       "    <tr>\n",
       "      <th>0</th>\n",
       "      <td>Chennai Super Kings</td>\n",
       "      <td>IPL-01</td>\n",
       "      <td>14</td>\n",
       "      <td>8</td>\n",
       "    </tr>\n",
       "    <tr>\n",
       "      <th>...</th>\n",
       "      <td>...</td>\n",
       "      <td>...</td>\n",
       "      <td>...</td>\n",
       "      <td>...</td>\n",
       "    </tr>\n",
       "    <tr>\n",
       "      <th>0</th>\n",
       "      <td>None</td>\n",
       "      <td>IPL-12</td>\n",
       "      <td>14</td>\n",
       "      <td>6</td>\n",
       "    </tr>\n",
       "    <tr>\n",
       "      <th>0</th>\n",
       "      <td>Rajasthan Royals</td>\n",
       "      <td>IPL-12</td>\n",
       "      <td>14</td>\n",
       "      <td>5</td>\n",
       "    </tr>\n",
       "    <tr>\n",
       "      <th>0</th>\n",
       "      <td>None</td>\n",
       "      <td>IPL-12</td>\n",
       "      <td>14</td>\n",
       "      <td>5</td>\n",
       "    </tr>\n",
       "    <tr>\n",
       "      <th>0</th>\n",
       "      <td>Royal Challengers Bangalore</td>\n",
       "      <td>IPL-12</td>\n",
       "      <td>14</td>\n",
       "      <td>5</td>\n",
       "    </tr>\n",
       "    <tr>\n",
       "      <th>0</th>\n",
       "      <td>None</td>\n",
       "      <td>IPL-12</td>\n",
       "      <td>14</td>\n",
       "      <td>5</td>\n",
       "    </tr>\n",
       "  </tbody>\n",
       "</table>\n",
       "<p>164 rows × 4 columns</p>\n",
       "</div>"
      ],
      "text/plain": [
       "                              0       1   2   3\n",
       "0              Rajasthan Royals  IPL-01  14  11\n",
       "0                          None  IPL-01  14  11\n",
       "0               Kings XI Punjab  IPL-01  14  10\n",
       "0                          None  IPL-01  14  10\n",
       "0           Chennai Super Kings  IPL-01  14   8\n",
       "..                          ...     ...  ..  ..\n",
       "0                          None  IPL-12  14   6\n",
       "0              Rajasthan Royals  IPL-12  14   5\n",
       "0                          None  IPL-12  14   5\n",
       "0   Royal Challengers Bangalore  IPL-12  14   5\n",
       "0                          None  IPL-12  14   5\n",
       "\n",
       "[164 rows x 4 columns]"
      ]
     },
     "execution_count": 13,
     "metadata": {},
     "output_type": "execute_result"
    }
   ],
   "source": [
    "df"
   ]
  },
  {
   "cell_type": "markdown",
   "metadata": {
    "scrolled": false
   },
   "source": [
    "## Aggregating the Data\n",
    "\n",
    "Create a mean dataframe and a dictionary of team-wise dataframes\n",
    "\n",
    "Calculate the win % as shown.\n",
    "\n",
    "`df['Win %'] = df['Wins'] / df['Played'] * 100`"
   ]
  },
  {
   "cell_type": "code",
   "execution_count": null,
   "metadata": {},
   "outputs": [],
   "source": [
    "seasons = None\n",
    "teams = None\n",
    "\n",
    "mean_df = None\n",
    "\n",
    "team_dfs = {}"
   ]
  },
  {
   "cell_type": "markdown",
   "metadata": {},
   "source": [
    "## Plot the data\n",
    "\n",
    "Use the code below to plot a chart as shown\n",
    "\n",
    "![](plot.png)"
   ]
  },
  {
   "cell_type": "code",
   "execution_count": null,
   "metadata": {},
   "outputs": [],
   "source": [
    "plt.figure(figsize=(12,9))\n",
    "\n",
    "plt.plot()\n",
    "\n",
    "x = plt.gca().xaxis\n",
    "\n",
    "for item in x.get_ticklabels():\n",
    "    item.set_rotation(45)\n",
    "plt.subplots_adjust(bottom=0.25)\n",
    "\n",
    "plt.legend(loc=2)\n",
    "\n",
    "ax = plt.gca()\n",
    "ax.set_yticks(np.arange(0,110,10))\n",
    "\n",
    "ax.set_ylabel('Win Percentage')\n",
    "ax.set_xlabel('Season')\n",
    "ax.set_title('Indian Premier League');"
   ]
  },
  {
   "cell_type": "code",
   "execution_count": null,
   "metadata": {},
   "outputs": [],
   "source": []
  }
 ],
 "metadata": {
  "kernelspec": {
   "display_name": "Python 3",
   "language": "python",
   "name": "python3"
  },
  "language_info": {
   "codemirror_mode": {
    "name": "ipython",
    "version": 3
   },
   "file_extension": ".py",
   "mimetype": "text/x-python",
   "name": "python",
   "nbconvert_exporter": "python",
   "pygments_lexer": "ipython3",
   "version": "3.8.2"
  }
 },
 "nbformat": 4,
 "nbformat_minor": 2
}
