{
 "cells": [
  {
   "cell_type": "markdown",
   "metadata": {},
   "source": [
    "# Downloading Meme Templates using Selenium\n",
    "\n",
    "Let's say you have to build an AI meme generator. Firstly you need to download a LOT of memes.\n",
    "\n",
    "Here are a few meme ids that are used by the ImgFlip API.\n",
    "\n",
    "[Imgflip](https://api.imgflip.com/popular_meme_ids)\n",
    "\n",
    "Imgflip's provides us with the following API.\n",
    "URL: https://api.imgflip.com/get_memes\n",
    "\n",
    "Method: GET\n",
    "\n",
    "Calling an API of a website is the fastest way to retrieve web data - Since the developers of the website have already taken care of everything for us.\n",
    "\n",
    "But, ofcourse there is a catch. These API's are usually paid. There is a limit on the number of queries you can make to these endpoints based on your payment plan. \n",
    "\n",
    "Imgflip has a free version.\n",
    "\n",
    "https://api.imgflip.com/"
   ]
  },
  {
   "cell_type": "code",
   "execution_count": null,
   "metadata": {
    "scrolled": true
   },
   "outputs": [],
   "source": [
    "import requests\n",
    "response = requests.get('https://api.imgflip.com/get_memes')\n",
    "data = response.json()\n",
    "data"
   ]
  },
  {
   "cell_type": "code",
   "execution_count": null,
   "metadata": {},
   "outputs": [],
   "source": [
    "MEME_IDS = [ '114585149',\n",
    "             '438680',\n",
    "             '100777631',\n",
    "             '181913649',\n",
    "             '161865971',\n",
    "             '217743513',\n",
    "             '131087935',\n",
    "             '119139145',\n",
    "             '93895088',\n",
    "             '112126428',\n",
    "             '97984',\n",
    "             '1035805',\n",
    "             '155067746',\n",
    "             '4087833',\n",
    "             '91538330',\n",
    "             '124822590',\n",
    "             '178591752',\n",
    "             '124055727',\n",
    "             '87743020',\n",
    "             '222403160',\n",
    "             '102156234',\n",
    "             '188390779',\n",
    "             '89370399',\n",
    "             '129242436']"
   ]
  },
  {
   "cell_type": "markdown",
   "metadata": {},
   "source": [
    "# Using Selenium for Web Automation\n",
    "\n",
    "We will use Selenium and ChromeDriver for downloading the memes. Selenium just mimics human behavior as if you are browsing the web. \n",
    "\n",
    "Apart from Web Automation, Selenium is also used in automated testing and robotic process automation (RPA).\n",
    "\n",
    "\n",
    "[More here](https://realpython.com/modern-web-automation-with-python-and-selenium/)"
   ]
  },
  {
   "cell_type": "code",
   "execution_count": null,
   "metadata": {},
   "outputs": [],
   "source": [
    "import os\n",
    "import time\n",
    "\n",
    "from selenium.webdriver.chrome.webdriver import WebDriver\n",
    "from selenium.webdriver.chrome.options import Options"
   ]
  },
  {
   "cell_type": "code",
   "execution_count": null,
   "metadata": {},
   "outputs": [],
   "source": [
    "print(os.getcwd())\n",
    "try:\n",
    "    os.mkdir('Downloads')\n",
    "except FileExistsError:\n",
    "    print('Directory already exists...')\n",
    "\n",
    "download_directory = os.path.join(os.getcwd(),'Downloads')\n",
    "download_directory"
   ]
  },
  {
   "cell_type": "code",
   "execution_count": null,
   "metadata": {},
   "outputs": [],
   "source": [
    "options = Options()\n",
    "options.add_argument('--start-maximized')"
   ]
  },
  {
   "cell_type": "code",
   "execution_count": null,
   "metadata": {},
   "outputs": [],
   "source": [
    "try:\n",
    "    # No need to specify executable_path if you are using windows \n",
    "    # and chromedriver.exe is in the current working directory.\n",
    "    \n",
    "    driver = WebDriver(executable_path='./chromedriver',options=options)\n",
    "    driver.get('https://www.google.co.in')\n",
    "    time.sleep(10)\n",
    "except Exception as err:\n",
    "    print(err)\n",
    "finally:\n",
    "    driver.quit()"
   ]
  },
  {
   "cell_type": "code",
   "execution_count": null,
   "metadata": {},
   "outputs": [],
   "source": [
    "meme = MEME_IDS[1]"
   ]
  },
  {
   "cell_type": "code",
   "execution_count": null,
   "metadata": {},
   "outputs": [],
   "source": [
    "# No need to specify executable_path if you are using windows \n",
    "# and chromedriver.exe is in the current working directory.\n",
    "driver = WebDriver(executable_path='./chromedriver',options=options)\n",
    "driver.get('https://www.google.co.in')"
   ]
  },
  {
   "cell_type": "code",
   "execution_count": null,
   "metadata": {},
   "outputs": [],
   "source": [
    "search_bar = None"
   ]
  },
  {
   "cell_type": "code",
   "execution_count": null,
   "metadata": {},
   "outputs": [],
   "source": [
    "search_bar.send_keys()"
   ]
  },
  {
   "cell_type": "code",
   "execution_count": null,
   "metadata": {},
   "outputs": [],
   "source": [
    "search_button = None"
   ]
  },
  {
   "cell_type": "code",
   "execution_count": null,
   "metadata": {},
   "outputs": [],
   "source": [
    "search_button.click()\n",
    "time.sleep(2)"
   ]
  },
  {
   "cell_type": "code",
   "execution_count": null,
   "metadata": {},
   "outputs": [],
   "source": [
    "search_results = None"
   ]
  },
  {
   "cell_type": "code",
   "execution_count": null,
   "metadata": {},
   "outputs": [],
   "source": [
    "url = None\n",
    "for i in search_results:\n",
    "    ### CODE HERE\n",
    "    pass\n",
    "\n",
    "driver.get(url)"
   ]
  },
  {
   "cell_type": "code",
   "execution_count": null,
   "metadata": {},
   "outputs": [],
   "source": [
    "img = None"
   ]
  },
  {
   "cell_type": "code",
   "execution_count": null,
   "metadata": {},
   "outputs": [],
   "source": [
    "response = requests.get(img.get_attribute('src'))\n",
    "\n",
    "with open(os.path.join(download_directory,f'{meme}.jpg'), 'wb') as file:\n",
    "    file.write(response.content)\n",
    "\n",
    "driver.quit()"
   ]
  },
  {
   "cell_type": "code",
   "execution_count": null,
   "metadata": {},
   "outputs": [],
   "source": [
    "path_of_file_downloaded = None"
   ]
  },
  {
   "cell_type": "code",
   "execution_count": null,
   "metadata": {},
   "outputs": [],
   "source": [
    "import cv2 \n",
    "from matplotlib import pyplot as plt\n",
    "%matplotlib inline\n",
    "\n",
    "img = cv2.imread(download_directory + path_of_file_downloaded)\n",
    "rgb = cv2.cvtColor(img, cv2.COLOR_BGR2RGB)\n",
    "plt.figure(figsize=(12,9))\n",
    "plt.imshow(rgb)\n",
    "plt.tick_params(\n",
    "    axis='both',\n",
    "    which='both',      \n",
    "    bottom=False,\n",
    "    left=False,\n",
    "    top=False,\n",
    "    labelleft=False,\n",
    "    labelbottom=False)\n",
    "plt.show()"
   ]
  }
 ],
 "metadata": {
  "kernelspec": {
   "display_name": "Python 3",
   "language": "python",
   "name": "python3"
  },
  "language_info": {
   "codemirror_mode": {
    "name": "ipython",
    "version": 3
   },
   "file_extension": ".py",
   "mimetype": "text/x-python",
   "name": "python",
   "nbconvert_exporter": "python",
   "pygments_lexer": "ipython3",
   "version": "3.8.2"
  }
 },
 "nbformat": 4,
 "nbformat_minor": 2
}
