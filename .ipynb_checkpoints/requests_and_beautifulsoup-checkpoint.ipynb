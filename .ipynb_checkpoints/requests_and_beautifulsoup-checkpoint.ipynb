{
 "cells": [
  {
   "cell_type": "markdown",
   "metadata": {},
   "source": [
    "# Using BeautifulSoup\n",
    "\n",
    "## Let's get the data about Kings XI Punjab's performance in the IPL"
   ]
  },
  {
   "cell_type": "markdown",
   "metadata": {},
   "source": [
    "We need to import the following libraries."
   ]
  },
  {
   "cell_type": "code",
   "execution_count": null,
   "metadata": {},
   "outputs": [],
   "source": [
    "import requests\n",
    "import pandas as pd\n",
    "import numpy as np\n",
    "import matplotlib.pyplot as plt\n",
    "from bs4 import BeautifulSoup\n",
    "\n",
    "%matplotlib inline"
   ]
  },
  {
   "cell_type": "markdown",
   "metadata": {},
   "source": [
    "Define some placeholder variables."
   ]
  },
  {
   "cell_type": "code",
   "execution_count": null,
   "metadata": {},
   "outputs": [],
   "source": [
    "URL = 'https://en.wikipedia.org/wiki/20{:02d}_Indian_Premier_League'\n",
    "SEASON = 'IPL-{:02d}'"
   ]
  },
  {
   "cell_type": "markdown",
   "metadata": {},
   "source": [
    "### Generating urls\n",
    "This is where we will get our data from.\n",
    "\n",
    "IPL-01 https://en.wikipedia.org/wiki/2008_Indian_Premier_League\n",
    "\n",
    "IPL-02 https://en.wikipedia.org/wiki/2009_Indian_Premier_League\n",
    "\n",
    "IPL-03 https://en.wikipedia.org/wiki/2010_Indian_Premier_League\n",
    "\n",
    "... \n",
    "\n",
    "IPL-11 https://en.wikipedia.org/wiki/2018_Indian_Premier_League\n",
    "\n",
    "IPL-12 https://en.wikipedia.org/wiki/2019_Indian_Premier_League\n",
    "\n",
    "**How will you generate these URLs?**"
   ]
  },
  {
   "cell_type": "code",
   "execution_count": null,
   "metadata": {},
   "outputs": [],
   "source": [
    "# WRITE A CODE TO GENERATE ABOVE URLS AND STORE THEM IN A LIST"
   ]
  },
  {
   "attachments": {},
   "cell_type": "markdown",
   "metadata": {
    "scrolled": false
   },
   "source": [
    "Since we now have the urls, we can create a dataframe.\n",
    "\n",
    "Use the code template below to create our output dataframe.\n",
    "\n",
    "Our dataframe will look like this:\n",
    "\n",
    "![](ipl.png)"
   ]
  },
  {
   "cell_type": "code",
   "execution_count": null,
   "metadata": {
    "scrolled": false
   },
   "outputs": [],
   "source": [
    "df = pd.DataFrame()\n",
    "\n",
    "for i in range(None, None):\n",
    "    \n",
    "    url = None\n",
    "    season = None\n",
    "    \n",
    "    response = requests.get(url)\n",
    "    soup = BeautifulSoup(response.content,'html.parser')\n",
    "    \n",
    "    trs = soup.find_all('tr')\n",
    "    for tr in trs:\n",
    "        team = None\n",
    "        played = None\n",
    "        wins = None\n",
    "    \n",
    "        row = [team, season, played, wins]\n",
    "        df = df.append([row])"
   ]
  },
  {
   "cell_type": "code",
   "execution_count": null,
   "metadata": {},
   "outputs": [],
   "source": [
    "df"
   ]
  },
  {
   "cell_type": "markdown",
   "metadata": {
    "scrolled": false
   },
   "source": [
    "## Aggregating the Data\n",
    "\n",
    "Create a mean dataframe and a dictionary of team-wise dataframes\n",
    "\n",
    "Calculate the win % as shown.\n",
    "\n",
    "`df['Win %'] = df['Wins'] / df['Played'] * 100`"
   ]
  },
  {
   "cell_type": "code",
   "execution_count": null,
   "metadata": {},
   "outputs": [],
   "source": [
    "seasons = None\n",
    "teams = None\n",
    "\n",
    "mean_df = None\n",
    "\n",
    "team_dfs = {}"
   ]
  },
  {
   "attachments": {},
   "cell_type": "markdown",
   "metadata": {},
   "source": [
    "## Plot the data\n",
    "\n",
    "Use the code below to plot a chart as shown\n",
    "\n",
    "![](plot.png)"
   ]
  },
  {
   "cell_type": "code",
   "execution_count": null,
   "metadata": {},
   "outputs": [],
   "source": [
    "plt.figure(figsize=(12,9))\n",
    "\n",
    "plt.plot()\n",
    "\n",
    "x = plt.gca().xaxis\n",
    "\n",
    "for item in x.get_ticklabels():\n",
    "    item.set_rotation(45)\n",
    "plt.subplots_adjust(bottom=0.25)\n",
    "\n",
    "plt.legend(loc=2)\n",
    "\n",
    "ax = plt.gca()\n",
    "ax.set_yticks(np.arange(0,110,10))\n",
    "\n",
    "ax.set_ylabel('Win Percentage')\n",
    "ax.set_xlabel('Season')\n",
    "ax.set_title('Indian Premier League');"
   ]
  },
  {
   "cell_type": "code",
   "execution_count": null,
   "metadata": {},
   "outputs": [],
   "source": []
  }
 ],
 "metadata": {
  "kernelspec": {
   "display_name": "Python 3",
   "language": "python",
   "name": "python3"
  },
  "language_info": {
   "codemirror_mode": {
    "name": "ipython",
    "version": 3
   },
   "file_extension": ".py",
   "mimetype": "text/x-python",
   "name": "python",
   "nbconvert_exporter": "python",
   "pygments_lexer": "ipython3",
   "version": "3.8.2"
  }
 },
 "nbformat": 4,
 "nbformat_minor": 2
}
