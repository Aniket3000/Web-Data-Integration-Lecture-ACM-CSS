{
 "cells": [
  {
   "cell_type": "markdown",
   "metadata": {},
   "source": [
    "# Using BeautifulSoup\n",
    "Let's get the data about Kings XI Punjab's performance in the IPL"
   ]
  },
  {
   "cell_type": "markdown",
   "metadata": {},
   "source": [
    "We need to import the following libraries."
   ]
  },
  {
   "cell_type": "code",
   "execution_count": 1,
   "metadata": {},
   "outputs": [],
   "source": [
    "import requests\n",
    "import pandas as pd\n",
    "import numpy as np\n",
    "import matplotlib.pyplot as plt\n",
    "from bs4 import BeautifulSoup\n",
    "\n",
    "%matplotlib inline"
   ]
  },
  {
   "cell_type": "markdown",
   "metadata": {},
   "source": [
    "Define some placeholder variables."
   ]
  },
  {
   "cell_type": "code",
   "execution_count": 2,
   "metadata": {},
   "outputs": [],
   "source": [
    "URL = 'https://en.wikipedia.org/wiki/20{:02d}_Indian_Premier_League'\n",
    "SEASON = 'IPL-{:02d}'"
   ]
  },
  {
   "cell_type": "markdown",
   "metadata": {},
   "source": [
    "Generating urls - this is where we will get our data from."
   ]
  },
  {
   "cell_type": "code",
   "execution_count": 3,
   "metadata": {},
   "outputs": [
    {
     "name": "stdout",
     "output_type": "stream",
     "text": [
      "IPL-01 https://en.wikipedia.org/wiki/2008_Indian_Premier_League\n",
      "IPL-02 https://en.wikipedia.org/wiki/2009_Indian_Premier_League\n",
      "IPL-03 https://en.wikipedia.org/wiki/2010_Indian_Premier_League\n",
      "IPL-04 https://en.wikipedia.org/wiki/2011_Indian_Premier_League\n",
      "IPL-05 https://en.wikipedia.org/wiki/2012_Indian_Premier_League\n",
      "IPL-06 https://en.wikipedia.org/wiki/2013_Indian_Premier_League\n",
      "IPL-07 https://en.wikipedia.org/wiki/2014_Indian_Premier_League\n",
      "IPL-08 https://en.wikipedia.org/wiki/2015_Indian_Premier_League\n",
      "IPL-09 https://en.wikipedia.org/wiki/2016_Indian_Premier_League\n",
      "IPL-10 https://en.wikipedia.org/wiki/2017_Indian_Premier_League\n",
      "IPL-11 https://en.wikipedia.org/wiki/2018_Indian_Premier_League\n",
      "IPL-12 https://en.wikipedia.org/wiki/2019_Indian_Premier_League\n"
     ]
    }
   ],
   "source": [
    "for i in range(8,20):\n",
    "    print(SEASON.format(i - 7), URL.format(i))"
   ]
  },
  {
   "cell_type": "code",
   "execution_count": 4,
   "metadata": {
    "scrolled": false
   },
   "outputs": [],
   "source": [
    "df = pd.DataFrame()\n",
    "\n",
    "for i in range(8,20):\n",
    "    \n",
    "    url = URL.format(i)\n",
    "    season = SEASON.format(i - 7)\n",
    "    \n",
    "    response = requests.get(url)\n",
    "    soup = BeautifulSoup(response.content,'html.parser')\n",
    "    \n",
    "    trs = soup.find_all('tr')\n",
    "    for tr in trs:\n",
    "        \n",
    "        tags = tr.find_all('a')\n",
    "        \n",
    "        if len(tags) > 0:\n",
    "            tds = tr.find_all('td')\n",
    "            try:\n",
    "                name = tds[0].text.strip()\n",
    "                played = int(tds[1].text)\n",
    "                wins = int(tds[2].text)\n",
    "                \n",
    "                if len(name) < 10:\n",
    "                    continue\n",
    "                name = name.split('(')[0]\n",
    "                name = name.strip()\n",
    "                \n",
    "                row = [name, season, played, wins]\n",
    "                df = df.append([row])\n",
    "#                 print(row)\n",
    "            except:\n",
    "                continue"
   ]
  },
  {
   "cell_type": "code",
   "execution_count": 5,
   "metadata": {
    "scrolled": false
   },
   "outputs": [
    {
     "data": {
      "text/html": [
       "<div>\n",
       "<style scoped>\n",
       "    .dataframe tbody tr th:only-of-type {\n",
       "        vertical-align: middle;\n",
       "    }\n",
       "\n",
       "    .dataframe tbody tr th {\n",
       "        vertical-align: top;\n",
       "    }\n",
       "\n",
       "    .dataframe thead th {\n",
       "        text-align: right;\n",
       "    }\n",
       "</style>\n",
       "<table border=\"1\" class=\"dataframe\">\n",
       "  <thead>\n",
       "    <tr style=\"text-align: right;\">\n",
       "      <th></th>\n",
       "      <th></th>\n",
       "      <th>Played</th>\n",
       "      <th>Wins</th>\n",
       "    </tr>\n",
       "    <tr>\n",
       "      <th>Season</th>\n",
       "      <th>Team</th>\n",
       "      <th></th>\n",
       "      <th></th>\n",
       "    </tr>\n",
       "  </thead>\n",
       "  <tbody>\n",
       "    <tr>\n",
       "      <th rowspan=\"5\" valign=\"top\">IPL-01</th>\n",
       "      <th>Rajasthan Royals</th>\n",
       "      <td>14</td>\n",
       "      <td>11</td>\n",
       "    </tr>\n",
       "    <tr>\n",
       "      <th>Kings XI Punjab</th>\n",
       "      <td>14</td>\n",
       "      <td>10</td>\n",
       "    </tr>\n",
       "    <tr>\n",
       "      <th>Chennai Super Kings</th>\n",
       "      <td>14</td>\n",
       "      <td>8</td>\n",
       "    </tr>\n",
       "    <tr>\n",
       "      <th>Delhi Daredevils</th>\n",
       "      <td>14</td>\n",
       "      <td>7</td>\n",
       "    </tr>\n",
       "    <tr>\n",
       "      <th>Mumbai Indians</th>\n",
       "      <td>14</td>\n",
       "      <td>7</td>\n",
       "    </tr>\n",
       "    <tr>\n",
       "      <th>...</th>\n",
       "      <th>...</th>\n",
       "      <td>...</td>\n",
       "      <td>...</td>\n",
       "    </tr>\n",
       "    <tr>\n",
       "      <th rowspan=\"5\" valign=\"top\">IPL-12</th>\n",
       "      <th>Sunrisers Hyderabad</th>\n",
       "      <td>14</td>\n",
       "      <td>6</td>\n",
       "    </tr>\n",
       "    <tr>\n",
       "      <th>Kolkata Knight Riders</th>\n",
       "      <td>14</td>\n",
       "      <td>6</td>\n",
       "    </tr>\n",
       "    <tr>\n",
       "      <th>Kings XI Punjab</th>\n",
       "      <td>14</td>\n",
       "      <td>6</td>\n",
       "    </tr>\n",
       "    <tr>\n",
       "      <th>Rajasthan Royals</th>\n",
       "      <td>14</td>\n",
       "      <td>5</td>\n",
       "    </tr>\n",
       "    <tr>\n",
       "      <th>Royal Challengers Bangalore</th>\n",
       "      <td>14</td>\n",
       "      <td>5</td>\n",
       "    </tr>\n",
       "  </tbody>\n",
       "</table>\n",
       "<p>82 rows × 2 columns</p>\n",
       "</div>"
      ],
      "text/plain": [
       "                                    Played  Wins\n",
       "Season Team                                     \n",
       "IPL-01 Rajasthan Royals                 14    11\n",
       "       Kings XI Punjab                  14    10\n",
       "       Chennai Super Kings              14     8\n",
       "       Delhi Daredevils                 14     7\n",
       "       Mumbai Indians                   14     7\n",
       "...                                    ...   ...\n",
       "IPL-12 Sunrisers Hyderabad              14     6\n",
       "       Kolkata Knight Riders            14     6\n",
       "       Kings XI Punjab                  14     6\n",
       "       Rajasthan Royals                 14     5\n",
       "       Royal Challengers Bangalore      14     5\n",
       "\n",
       "[82 rows x 2 columns]"
      ]
     },
     "execution_count": 5,
     "metadata": {},
     "output_type": "execute_result"
    }
   ],
   "source": [
    "df.columns = ['Team','Season','Played','Wins']\n",
    "df = df.set_index(['Season','Team'])\n",
    "\n",
    "df"
   ]
  },
  {
   "cell_type": "code",
   "execution_count": 6,
   "metadata": {},
   "outputs": [
    {
     "data": {
      "image/png": "[encoded data removed]",
      "text/plain": [
       "<Figure size 864x648 with 1 Axes>"
      ]
     },
     "metadata": {
      "needs_background": "light"
     },
     "output_type": "display_data"
    }
   ],
   "source": [
    "mean_df = pd.DataFrame()\n",
    "\n",
    "seasons = list(df.index.levels[0])\n",
    "teams = list(set(df.index.levels[1]))\n",
    "\n",
    "for i in seasons:    \n",
    "    mean_df = mean_df.append(pd.Series(df.loc[i].mean(),name=i))\n",
    "mean_df['Win %'] = mean_df['Wins'] / mean_df['Played'] * 100\n",
    "\n",
    "team_dfs = {}\n",
    "for team in teams:\n",
    "    team_dfs[team] = pd.DataFrame()\n",
    "    for i in seasons:    \n",
    "        try:\n",
    "            team_dfs[team] = team_dfs[team].append(pd.Series(df.loc[i].loc[team],name=i))\n",
    "        except:\n",
    "            pass\n",
    "    team_dfs[team]['Win %'] = team_dfs[team]['Wins'] / team_dfs[team]['Played'] * 100\n",
    "        \n",
    "\n",
    "\n",
    "\n",
    "plt.figure(figsize=(12,9))\n",
    "plt.plot(mean_df['Win %'],'-',label='Average Wins',alpha=0.5,linewidth=10)\n",
    "# for team in teams:\n",
    "#     plt.plot(team_dfs[team]['Win %'],label=team)\n",
    "\n",
    "plt.plot(team_dfs['Kings XI Punjab']['Win %'],'-or',label='KXIP',linewidth=4,markersize=10,alpha=0.75)\n",
    "plt.plot(team_dfs['Mumbai Indians']['Win %'],'-ob',label='MI',linewidth=4,markersize=10,alpha=0.75)\n",
    "\n",
    "x = plt.gca().xaxis\n",
    "for item in x.get_ticklabels():\n",
    "    item.set_rotation(45)\n",
    "plt.subplots_adjust(bottom=0.25)\n",
    "\n",
    "plt.legend(loc=2)\n",
    "\n",
    "ax = plt.gca()\n",
    "ax.set_yticks(np.arange(0,110,10))\n",
    "\n",
    "ax.set_ylabel('Win Percentage')\n",
    "ax.set_xlabel('Season')\n",
    "ax.set_title('Indian Premier League');"
   ]
  },
  {
   "cell_type": "code",
   "execution_count": null,
   "metadata": {},
   "outputs": [],
   "source": []
  }
 ],
 "metadata": {
  "kernelspec": {
   "display_name": "Python 3",
   "language": "python",
   "name": "python3"
  },
  "language_info": {
   "codemirror_mode": {
    "name": "ipython",
    "version": 3
   },
   "file_extension": ".py",
   "mimetype": "text/x-python",
   "name": "python",
   "nbconvert_exporter": "python",
   "pygments_lexer": "ipython3",
   "version": "3.8.2"
  }
 },
 "nbformat": 4,
 "nbformat_minor": 2
}
